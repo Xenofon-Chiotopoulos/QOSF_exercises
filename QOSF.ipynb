{
  "nbformat": 4,
  "nbformat_minor": 0,
  "metadata": {
    "colab": {
      "provenance": [],
      "authorship_tag": "ABX9TyOzpc+ylAD1SN1Gs2HeJhen",
      "include_colab_link": true
    },
    "kernelspec": {
      "name": "python3",
      "display_name": "Python 3"
    },
    "language_info": {
      "name": "python"
    }
  },
  "cells": [
    {
      "cell_type": "markdown",
      "metadata": {
        "id": "view-in-github",
        "colab_type": "text"
      },
      "source": [
        "<a href=\"https://colab.research.google.com/github/Xenofon-Chiotopoulos/QOSF_exercises/blob/main/QOSF.ipynb\" target=\"_parent\"><img src=\"https://colab.research.google.com/assets/colab-badge.svg\" alt=\"Open In Colab\"/></a>"
      ]
    },
    {
      "cell_type": "code",
      "execution_count": 17,
      "metadata": {
        "id": "yhvZfjc8q4A_"
      },
      "outputs": [],
      "source": [
        "!pip install qiskit"
      ]
    },
    {
      "cell_type": "code",
      "source": [
        "from qiskit import QuantumRegister, QuantumCircuit, ClassicalRegister\n",
        "from qiskit import Aer, execute\n",
        "from math import pi\n",
        "import numpy as np"
      ],
      "metadata": {
        "id": "Ub0d91LBsXkS"
      },
      "execution_count": 4,
      "outputs": []
    },
    {
      "cell_type": "markdown",
      "source": [
        "Excercise 1 quantum multiplyer"
      ],
      "metadata": {
        "id": "q7QoRsaPq9zJ"
      }
    },
    {
      "cell_type": "code",
      "source": [
        "def to_bitstring(int1, int2):\n",
        "  '''Turns ints to bitstring'''\n",
        "  num1 = str(format(int1, \"b\"))\n",
        "  num2 = str(format(int2, \"b\"))\n",
        "  len1 = len(num1)\n",
        "  len2 = len(num2)\n",
        "\n",
        "  if len1>len2:\n",
        "    num2= '0'*(len1-len2) + num2\n",
        "  else:\n",
        "    num1= '0'*(len2-len1) + num1\n",
        "\n",
        "  return num1, num2\n",
        "\n",
        "def input_state(qc, register, n):\n",
        "  '''performs QFT on register'''\n",
        "  qc.h(register[n])\n",
        "  for i in range(0, n):\n",
        "      qc.cp(pi / float(2**(i + 1)), register[n - (i + 1)], register[n])\n",
        "\n",
        "\n",
        "def evolve_QFT(qc, register_a, register_b, n, factor):\n",
        "  '''Evolves |(ψ(a))> to |(ψ(a+b))>'''\n",
        "  l = len(register_b)\n",
        "  for i in range(0, n + 1):\n",
        "      if (n - i) > l - 1:\n",
        "          pass\n",
        "      else:\n",
        "          qc.cp(factor*pi / float(2**(i)), register_b[n - i], register_a[n])\n",
        "\n",
        "def inv_QFT(qc, register, n):\n",
        "  '''performs inverse QFT to get output state'''\n",
        "  for i in range(0, n):\n",
        "      qc.cp(-1 * pi / float(2**(n - i)), register[i], register[n])\n",
        "  qc.h(register[n])\n",
        "\n",
        "def add(register_a, register_b, circ, factor):\n",
        "  '''Adds qunatum registers by doing a = a+b '''\n",
        "  n = len(register_a) - 1\n",
        "\n",
        "  for i in range(0, n + 1):\n",
        "      input_state(circ, register_a, n - i)\n",
        "  for i in range(0, n + 1):\n",
        "      evolve_QFT(circ, register_a, register_b, n - i, factor)\n",
        "  for i in range(0, n + 1):\n",
        "      inv_QFT(circ, register_a, i)"
      ],
      "metadata": {
        "colab": {
          "base_uri": "https://localhost:8080/",
          "height": 131
        },
        "id": "NqDjtVnHrGbh",
        "outputId": "1bf76375-ae48-49d9-b87a-7f6e050a6025"
      },
      "execution_count": 53,
      "outputs": [
        {
          "output_type": "error",
          "ename": "IndentationError",
          "evalue": "ignored",
          "traceback": [
            "\u001b[0;36m  File \u001b[0;32m\"<ipython-input-53-733541e7eda8>\"\u001b[0;36m, line \u001b[0;32m17\u001b[0m\n\u001b[0;31m    qc.h(register[n])\u001b[0m\n\u001b[0m    ^\u001b[0m\n\u001b[0;31mIndentationError\u001b[0m\u001b[0;31m:\u001b[0m unexpected indent\n"
          ]
        }
      ]
    },
    {
      "cell_type": "code",
      "source": [
        "def multiply_numbers(num1, num2):\n",
        "  sign = 0\n",
        "  if num1*num2 < 0:\n",
        "    sign = -1\n",
        "  elif num1*num2 > 0:\n",
        "    sign = 1\n",
        "\n",
        "  num1, num2 = to_bitstring(int1, int2)\n",
        "  len1, len2 = len(num1), len(num2)\n",
        "  if len2 > len1:\n",
        "    num1, num2 = num2, num1\n",
        "    len2, len1 = len1, len2\n",
        "\n",
        "  multiplicand = QuantumRegister(len1)\n",
        "  multiplier = QuantumRegister(len2)\n",
        "  final_sum = QuantumRegister(len1 + len2)\n",
        "\n",
        "  cl = ClassicalRegister(len1 + len2)\n",
        "  d = QuantumRegister(1)\n",
        "  circ = QuantumCircuit(final_sum, multiplier, multiplicand, d, cl, name=\"qc\")\n",
        "  circ.x(d)\n",
        "\n",
        "  for i in range(len1):\n",
        "    if num1[i] == '1':\n",
        "        circ.x(multiplicand[len1 - i - 1])\n",
        "\n",
        "  for i in range(len2):\n",
        "      if num2[i] == '1':\n",
        "          circ.x(multiplier[len1 - i - 1])\n",
        "\n",
        "  multiplier_str = '1'\n",
        "  while(int(multiplier_str) != 0):\n",
        "    add(final_sum, multiplicand, circ, 1)\n",
        "    add(multiplier, d, circ, -1)\n",
        "    for i in range(len(multiplier)):\n",
        "        circ.measure(multiplier[i], cl[i])\n",
        "    result = execute(circ, backend=Aer.get_backend('qasm_simulator'),\n",
        "                    shots=2).result().get_counts(circ.name)\n",
        "    multiplier_str = list(result.keys())[0]\n",
        "\n",
        "  circ.measure(final_sum, cl)\n",
        "  result = execute(circ, backend=Aer.get_backend('qasm_simulator'),\n",
        "              shots=2).result().get_counts(circ.name)\n",
        "  result = list(result.keys())[0]\n",
        "  #print(circ)\n",
        "  return int(str(result), 2) * sign"
      ],
      "metadata": {
        "id": "67zPqZaH3WbW"
      },
      "execution_count": 50,
      "outputs": []
    },
    {
      "cell_type": "code",
      "source": [
        "int1 = 1; int2 = 1\n",
        "res = multiply_numbers(int1,int2)\n",
        "print(res)"
      ],
      "metadata": {
        "colab": {
          "base_uri": "https://localhost:8080/"
        },
        "id": "5gEvNNu80lAN",
        "outputId": "d22b68ae-328a-4bb3-98b0-03bc8346ed12"
      },
      "execution_count": 39,
      "outputs": [
        {
          "output_type": "stream",
          "name": "stdout",
          "text": [
            "                        ┌───┐                 ┌───┐               ┌─┐   \n",
            "q518_0: ──────■─────────┤ H ├───────────■─────┤ H ├─■─────────────┤M├───\n",
            "        ┌───┐ │P(π/2)   └───┘           │     └───┘ │P(-π/2) ┌───┐└╥┘┌─┐\n",
            "q518_1: ┤ H ├─■────────■────────────────┼───────────■────────┤ H ├─╫─┤M├\n",
            "        ├───┤  ┌───┐   │                │     ┌───┐   ┌─┐    └───┘ ║ └╥┘\n",
            "  q517: ┤ X ├──┤ H ├───┼────────■───────┼─────┤ H ├───┤M├──────────╫──╫─\n",
            "        ├───┤  └───┘   │P(π/2)  │       │P(π) └───┘   └╥┘          ║  ║ \n",
            "  q516: ┤ X ├──────────■────────┼───────■──────────────╫───────────╫──╫─\n",
            "        ├───┤                   │P(-π)                 ║           ║  ║ \n",
            "  q519: ┤ X ├───────────────────■──────────────────────╫───────────╫──╫─\n",
            "        └───┘                                          ║           ║  ║ \n",
            " c19_0: ═══════════════════════════════════════════════╩═══════════╩══╬═\n",
            "                                                                      ║ \n",
            " c19_1: ══════════════════════════════════════════════════════════════╩═\n",
            "                                                                        \n",
            "1\n"
          ]
        }
      ]
    },
    {
      "cell_type": "code",
      "source": [
        "int1 = -4; int2 = 4\n",
        "res = multiply_numbers(int1,int2)\n",
        "print(res)"
      ],
      "metadata": {
        "colab": {
          "base_uri": "https://localhost:8080/"
        },
        "id": "CviHBlkS8392",
        "outputId": "a18ab03c-5d24-4625-bd04-049ca2423f37"
      },
      "execution_count": 33,
      "outputs": [
        {
          "output_type": "stream",
          "name": "stdout",
          "text": [
            "-16\n"
          ]
        }
      ]
    },
    {
      "cell_type": "code",
      "source": [
        "int1 = -4; int2 = -4\n",
        "res = multiply_numbers(int1,int2)\n",
        "print(res)"
      ],
      "metadata": {
        "colab": {
          "base_uri": "https://localhost:8080/"
        },
        "id": "qFbL_17384Uq",
        "outputId": "23bf0b3a-75f7-48b4-8600-38c5207c9b07"
      },
      "execution_count": 34,
      "outputs": [
        {
          "output_type": "stream",
          "name": "stdout",
          "text": [
            "16\n"
          ]
        }
      ]
    },
    {
      "cell_type": "code",
      "source": [
        "int1 = 10; int2 = 10\n",
        "res = multiply_numbers(int1,int2)\n",
        "print(res)"
      ],
      "metadata": {
        "colab": {
          "base_uri": "https://localhost:8080/"
        },
        "id": "9gHuT6-784wJ",
        "outputId": "98e2ec36-e233-4f0e-8858-e3fcc34f3b89"
      },
      "execution_count": 35,
      "outputs": [
        {
          "output_type": "stream",
          "name": "stdout",
          "text": [
            "100\n"
          ]
        }
      ]
    },
    {
      "cell_type": "code",
      "source": [
        "int1 = 0; int2 = 10\n",
        "res = multiply_numbers(int1,int2)\n",
        "print(res)"
      ],
      "metadata": {
        "colab": {
          "base_uri": "https://localhost:8080/"
        },
        "id": "zJBuPAdu9yii",
        "outputId": "08247813-8eac-4b3c-8b99-17ff1ad6bc7b"
      },
      "execution_count": 51,
      "outputs": [
        {
          "output_type": "stream",
          "name": "stdout",
          "text": [
            "0\n"
          ]
        }
      ]
    }
  ]
}